{
 "cells": [
  {
   "cell_type": "markdown",
   "metadata": {
    "id": "HEdw4KmoqDl4"
   },
   "source": [
    "# Analysis of the Bike Sharing dataset\n",
    "\n",
    "## About the dataset\n",
    "The dataset under analysis belongs to bike sharing company based in Chicago and was found on Kaggle at this ([link](https://www.kaggle.com/datasets/karlachang/bike-share-divvy-datasets-from-nov2022-to-oct-2023/data)). The webpage contains a reference to a more complete ([source](https://divvy-tripdata.s3.amazonaws.com/index.html)), where data updated to November 2023 about rides performed by users of the bike-sharing system is available, divided by month.\n",
    "\n",
    "Here we focus the anlysis on the last quarter of 2022, with the purpose of generating interesting insights on the operations registered in the last part of the year.\n",
    "\n",
    "## Structure of the notebook\n",
    "The first part of the notebook is about performing data exploration and cleaning.\n",
    "\n",
    "The second portion, instead, is dedicated to querying the dataset using MongoDB to get some more interesting insights about rides. The results returned by the queries could be used as support tool for decision making inside the company."
   ]
  },
  {
   "cell_type": "markdown",
   "metadata": {
    "id": "RbI0joKQ7xrs"
   },
   "source": [
    "# Import libraries"
   ]
  },
  {
   "cell_type": "code",
   "execution_count": 1,
   "metadata": {
    "id": "7twPHpeR9qK-"
   },
   "outputs": [],
   "source": [
    "import pandas as pd\n",
    "import numpy as np\n",
    "import random\n",
    "\n",
    "# Set random seed for reproducibility\n",
    "random.seed(25)"
   ]
  },
  {
   "cell_type": "markdown",
   "metadata": {
    "id": "Rr4T7D9r729d"
   },
   "source": [
    "# Import and inspect data sources\n"
   ]
  },
  {
   "cell_type": "code",
   "execution_count": 2,
   "metadata": {
    "id": "Rp0e7JAd77Ip"
   },
   "outputs": [],
   "source": [
    "# Import data from CSV files\n",
    "oct2022 = pd.read_csv('data/202210-divvy-tripdata.csv')\n",
    "nov2022 = pd.read_csv('data/202211-divvy-tripdata.csv')\n",
    "dec2022 = pd.read_csv('data/202212-divvy-tripdata.csv')"
   ]
  },
  {
   "cell_type": "code",
   "execution_count": 3,
   "metadata": {
    "colab": {
     "base_uri": "https://localhost:8080/"
    },
    "id": "l3qFdm3n8ZV8",
    "outputId": "1d8335e8-75a0-45c9-fc8d-3a01b6295d5d"
   },
   "outputs": [
    {
     "name": "stdout",
     "output_type": "stream",
     "text": [
      "<class 'pandas.core.frame.DataFrame'>\n",
      "RangeIndex: 558685 entries, 0 to 558684\n",
      "Data columns (total 13 columns):\n",
      " #   Column              Non-Null Count   Dtype  \n",
      "---  ------              --------------   -----  \n",
      " 0   ride_id             558685 non-null  object \n",
      " 1   rideable_type       558685 non-null  object \n",
      " 2   started_at          558685 non-null  object \n",
      " 3   ended_at            558685 non-null  object \n",
      " 4   start_station_name  467330 non-null  object \n",
      " 5   start_station_id    467330 non-null  object \n",
      " 6   end_station_name    462068 non-null  object \n",
      " 7   end_station_id      462068 non-null  object \n",
      " 8   start_lat           558685 non-null  float64\n",
      " 9   start_lng           558685 non-null  float64\n",
      " 10  end_lat             558210 non-null  float64\n",
      " 11  end_lng             558210 non-null  float64\n",
      " 12  member_casual       558685 non-null  object \n",
      "dtypes: float64(4), object(9)\n",
      "memory usage: 55.4+ MB\n"
     ]
    }
   ],
   "source": [
    "# Display details of the October 2022 dataset\n",
    "oct2022.info()"
   ]
  },
  {
   "cell_type": "code",
   "execution_count": 4,
   "metadata": {
    "colab": {
     "base_uri": "https://localhost:8080/"
    },
    "id": "Pi8RbqK18rbe",
    "outputId": "3ea269f9-b21b-4c45-ac90-cfa94b9bc43a"
   },
   "outputs": [
    {
     "name": "stdout",
     "output_type": "stream",
     "text": [
      "<class 'pandas.core.frame.DataFrame'>\n",
      "RangeIndex: 337735 entries, 0 to 337734\n",
      "Data columns (total 13 columns):\n",
      " #   Column              Non-Null Count   Dtype  \n",
      "---  ------              --------------   -----  \n",
      " 0   ride_id             337735 non-null  object \n",
      " 1   rideable_type       337735 non-null  object \n",
      " 2   started_at          337735 non-null  object \n",
      " 3   ended_at            337735 non-null  object \n",
      " 4   start_station_name  285778 non-null  object \n",
      " 5   start_station_id    285778 non-null  object \n",
      " 6   end_station_name    283476 non-null  object \n",
      " 7   end_station_id      283476 non-null  object \n",
      " 8   start_lat           337735 non-null  float64\n",
      " 9   start_lng           337735 non-null  float64\n",
      " 10  end_lat             337505 non-null  float64\n",
      " 11  end_lng             337505 non-null  float64\n",
      " 12  member_casual       337735 non-null  object \n",
      "dtypes: float64(4), object(9)\n",
      "memory usage: 33.5+ MB\n"
     ]
    }
   ],
   "source": [
    "# Display details of the November 2022 dataset\n",
    "nov2022.info()"
   ]
  },
  {
   "cell_type": "code",
   "execution_count": 5,
   "metadata": {
    "colab": {
     "base_uri": "https://localhost:8080/"
    },
    "id": "haqeB0PA8ujM",
    "outputId": "29671bed-c1d9-443e-fd28-11b6cde80a5f"
   },
   "outputs": [
    {
     "name": "stdout",
     "output_type": "stream",
     "text": [
      "<class 'pandas.core.frame.DataFrame'>\n",
      "RangeIndex: 181806 entries, 0 to 181805\n",
      "Data columns (total 13 columns):\n",
      " #   Column              Non-Null Count   Dtype  \n",
      "---  ------              --------------   -----  \n",
      " 0   ride_id             181806 non-null  object \n",
      " 1   rideable_type       181806 non-null  object \n",
      " 2   started_at          181806 non-null  object \n",
      " 3   ended_at            181806 non-null  object \n",
      " 4   start_station_name  152523 non-null  object \n",
      " 5   start_station_id    152523 non-null  object \n",
      " 6   end_station_name    150648 non-null  object \n",
      " 7   end_station_id      150648 non-null  object \n",
      " 8   start_lat           181806 non-null  float64\n",
      " 9   start_lng           181806 non-null  float64\n",
      " 10  end_lat             181678 non-null  float64\n",
      " 11  end_lng             181678 non-null  float64\n",
      " 12  member_casual       181806 non-null  object \n",
      "dtypes: float64(4), object(9)\n",
      "memory usage: 18.0+ MB\n"
     ]
    }
   ],
   "source": [
    "# Display details of the December 2022 dataset\n",
    "dec2022.info()"
   ]
  },
  {
   "cell_type": "markdown",
   "metadata": {
    "id": "UoM-T394-G3e"
   },
   "source": [
    "# Merge data sources"
   ]
  },
  {
   "cell_type": "code",
   "execution_count": 6,
   "metadata": {
    "id": "2vFgFZRE9aI2"
   },
   "outputs": [],
   "source": [
    "# Merge datasets\n",
    "data = pd.concat([oct2022, nov2022, dec2022], axis=0, ignore_index=True)"
   ]
  },
  {
   "cell_type": "markdown",
   "metadata": {
    "id": "kjHJhc57-L4P"
   },
   "source": [
    "# Inspect dataset"
   ]
  },
  {
   "cell_type": "code",
   "execution_count": 7,
   "metadata": {
    "colab": {
     "base_uri": "https://localhost:8080/"
    },
    "id": "lTfxoIHx93n7",
    "outputId": "ad5fc76f-0e58-46f6-c37a-b537da36e668"
   },
   "outputs": [
    {
     "name": "stdout",
     "output_type": "stream",
     "text": [
      "<class 'pandas.core.frame.DataFrame'>\n",
      "RangeIndex: 1078226 entries, 0 to 1078225\n",
      "Data columns (total 13 columns):\n",
      " #   Column              Non-Null Count    Dtype  \n",
      "---  ------              --------------    -----  \n",
      " 0   ride_id             1078226 non-null  object \n",
      " 1   rideable_type       1078226 non-null  object \n",
      " 2   started_at          1078226 non-null  object \n",
      " 3   ended_at            1078226 non-null  object \n",
      " 4   start_station_name  905631 non-null   object \n",
      " 5   start_station_id    905631 non-null   object \n",
      " 6   end_station_name    896192 non-null   object \n",
      " 7   end_station_id      896192 non-null   object \n",
      " 8   start_lat           1078226 non-null  float64\n",
      " 9   start_lng           1078226 non-null  float64\n",
      " 10  end_lat             1077393 non-null  float64\n",
      " 11  end_lng             1077393 non-null  float64\n",
      " 12  member_casual       1078226 non-null  object \n",
      "dtypes: float64(4), object(9)\n",
      "memory usage: 106.9+ MB\n"
     ]
    }
   ],
   "source": [
    "# Display details of the resulting dataset\n",
    "data.info()"
   ]
  },
  {
   "cell_type": "code",
   "execution_count": 8,
   "metadata": {
    "colab": {
     "base_uri": "https://localhost:8080/",
     "height": 719
    },
    "id": "qjtqD8E6-oQW",
    "outputId": "5e78ae94-123f-48fc-b4de-d90df192563d"
   },
   "outputs": [
    {
     "data": {
      "text/html": [
       "<div>\n",
       "<style scoped>\n",
       "    .dataframe tbody tr th:only-of-type {\n",
       "        vertical-align: middle;\n",
       "    }\n",
       "\n",
       "    .dataframe tbody tr th {\n",
       "        vertical-align: top;\n",
       "    }\n",
       "\n",
       "    .dataframe thead th {\n",
       "        text-align: right;\n",
       "    }\n",
       "</style>\n",
       "<table border=\"1\" class=\"dataframe\">\n",
       "  <thead>\n",
       "    <tr style=\"text-align: right;\">\n",
       "      <th></th>\n",
       "      <th>ride_id</th>\n",
       "      <th>rideable_type</th>\n",
       "      <th>started_at</th>\n",
       "      <th>ended_at</th>\n",
       "      <th>start_station_name</th>\n",
       "      <th>start_station_id</th>\n",
       "      <th>end_station_name</th>\n",
       "      <th>end_station_id</th>\n",
       "      <th>start_lat</th>\n",
       "      <th>start_lng</th>\n",
       "      <th>end_lat</th>\n",
       "      <th>end_lng</th>\n",
       "      <th>member_casual</th>\n",
       "    </tr>\n",
       "  </thead>\n",
       "  <tbody>\n",
       "    <tr>\n",
       "      <th>0</th>\n",
       "      <td>A50255C1E17942AB</td>\n",
       "      <td>classic_bike</td>\n",
       "      <td>2022-10-14 17:13:30</td>\n",
       "      <td>2022-10-14 17:19:39</td>\n",
       "      <td>Noble St &amp; Milwaukee Ave</td>\n",
       "      <td>13290</td>\n",
       "      <td>Larrabee St &amp; Division St</td>\n",
       "      <td>KA1504000079</td>\n",
       "      <td>41.900680</td>\n",
       "      <td>-87.662600</td>\n",
       "      <td>41.903486</td>\n",
       "      <td>-87.643353</td>\n",
       "      <td>member</td>\n",
       "    </tr>\n",
       "    <tr>\n",
       "      <th>1</th>\n",
       "      <td>DB692A70BD2DD4E3</td>\n",
       "      <td>electric_bike</td>\n",
       "      <td>2022-10-01 16:29:26</td>\n",
       "      <td>2022-10-01 16:49:06</td>\n",
       "      <td>Damen Ave &amp; Charleston St</td>\n",
       "      <td>13288</td>\n",
       "      <td>Damen Ave &amp; Cullerton St</td>\n",
       "      <td>13089</td>\n",
       "      <td>41.920037</td>\n",
       "      <td>-87.677937</td>\n",
       "      <td>41.854967</td>\n",
       "      <td>-87.675700</td>\n",
       "      <td>casual</td>\n",
       "    </tr>\n",
       "    <tr>\n",
       "      <th>2</th>\n",
       "      <td>3C02727AAF60F873</td>\n",
       "      <td>electric_bike</td>\n",
       "      <td>2022-10-19 18:55:40</td>\n",
       "      <td>2022-10-19 19:03:30</td>\n",
       "      <td>Hoyne Ave &amp; Balmoral Ave</td>\n",
       "      <td>655</td>\n",
       "      <td>Western Ave &amp; Leland Ave</td>\n",
       "      <td>TA1307000140</td>\n",
       "      <td>41.979879</td>\n",
       "      <td>-87.681902</td>\n",
       "      <td>41.966400</td>\n",
       "      <td>-87.688704</td>\n",
       "      <td>member</td>\n",
       "    </tr>\n",
       "    <tr>\n",
       "      <th>3</th>\n",
       "      <td>47E653FDC2D99236</td>\n",
       "      <td>electric_bike</td>\n",
       "      <td>2022-10-31 07:52:36</td>\n",
       "      <td>2022-10-31 07:58:49</td>\n",
       "      <td>Rush St &amp; Cedar St</td>\n",
       "      <td>KA1504000133</td>\n",
       "      <td>Orleans St &amp; Chestnut St (NEXT Apts)</td>\n",
       "      <td>620</td>\n",
       "      <td>41.902274</td>\n",
       "      <td>-87.627692</td>\n",
       "      <td>41.898203</td>\n",
       "      <td>-87.637536</td>\n",
       "      <td>member</td>\n",
       "    </tr>\n",
       "    <tr>\n",
       "      <th>4</th>\n",
       "      <td>8B5407BE535159BF</td>\n",
       "      <td>classic_bike</td>\n",
       "      <td>2022-10-13 18:41:03</td>\n",
       "      <td>2022-10-13 19:26:18</td>\n",
       "      <td>900 W Harrison St</td>\n",
       "      <td>13028</td>\n",
       "      <td>Adler Planetarium</td>\n",
       "      <td>13431</td>\n",
       "      <td>41.874754</td>\n",
       "      <td>-87.649807</td>\n",
       "      <td>41.866095</td>\n",
       "      <td>-87.607267</td>\n",
       "      <td>casual</td>\n",
       "    </tr>\n",
       "    <tr>\n",
       "      <th>5</th>\n",
       "      <td>A177C92E9F021B99</td>\n",
       "      <td>electric_bike</td>\n",
       "      <td>2022-10-13 15:53:27</td>\n",
       "      <td>2022-10-13 15:59:17</td>\n",
       "      <td>900 W Harrison St</td>\n",
       "      <td>13028</td>\n",
       "      <td>Loomis St &amp; Lexington St</td>\n",
       "      <td>13332</td>\n",
       "      <td>41.874725</td>\n",
       "      <td>-87.649830</td>\n",
       "      <td>41.872187</td>\n",
       "      <td>-87.661501</td>\n",
       "      <td>casual</td>\n",
       "    </tr>\n",
       "    <tr>\n",
       "      <th>6</th>\n",
       "      <td>DF5EC7678DE3C2B3</td>\n",
       "      <td>electric_bike</td>\n",
       "      <td>2022-10-06 15:51:21</td>\n",
       "      <td>2022-10-06 15:55:06</td>\n",
       "      <td>900 W Harrison St</td>\n",
       "      <td>13028</td>\n",
       "      <td>Halsted St &amp; Roosevelt Rd</td>\n",
       "      <td>TA1305000017</td>\n",
       "      <td>41.874713</td>\n",
       "      <td>-87.649875</td>\n",
       "      <td>41.867324</td>\n",
       "      <td>-87.648625</td>\n",
       "      <td>member</td>\n",
       "    </tr>\n",
       "    <tr>\n",
       "      <th>7</th>\n",
       "      <td>407DE6D80130A297</td>\n",
       "      <td>classic_bike</td>\n",
       "      <td>2022-10-26 17:30:10</td>\n",
       "      <td>2022-10-26 17:37:57</td>\n",
       "      <td>Rush St &amp; Cedar St</td>\n",
       "      <td>KA1504000133</td>\n",
       "      <td>Larrabee St &amp; Division St</td>\n",
       "      <td>KA1504000079</td>\n",
       "      <td>41.902309</td>\n",
       "      <td>-87.627691</td>\n",
       "      <td>41.903486</td>\n",
       "      <td>-87.643353</td>\n",
       "      <td>member</td>\n",
       "    </tr>\n",
       "    <tr>\n",
       "      <th>8</th>\n",
       "      <td>45EEAF68A1A051CA</td>\n",
       "      <td>classic_bike</td>\n",
       "      <td>2022-10-22 09:47:56</td>\n",
       "      <td>2022-10-22 09:57:42</td>\n",
       "      <td>Noble St &amp; Milwaukee Ave</td>\n",
       "      <td>13290</td>\n",
       "      <td>Kingsbury St &amp; Kinzie St</td>\n",
       "      <td>KA1503000043</td>\n",
       "      <td>41.900680</td>\n",
       "      <td>-87.662600</td>\n",
       "      <td>41.889177</td>\n",
       "      <td>-87.638506</td>\n",
       "      <td>casual</td>\n",
       "    </tr>\n",
       "    <tr>\n",
       "      <th>9</th>\n",
       "      <td>66CD8E4D0C38C0F3</td>\n",
       "      <td>electric_bike</td>\n",
       "      <td>2022-10-24 12:39:47</td>\n",
       "      <td>2022-10-24 12:48:36</td>\n",
       "      <td>Noble St &amp; Milwaukee Ave</td>\n",
       "      <td>13290</td>\n",
       "      <td>Damen Ave &amp; Cortland St</td>\n",
       "      <td>13133</td>\n",
       "      <td>41.900701</td>\n",
       "      <td>-87.662565</td>\n",
       "      <td>41.915983</td>\n",
       "      <td>-87.677335</td>\n",
       "      <td>member</td>\n",
       "    </tr>\n",
       "  </tbody>\n",
       "</table>\n",
       "</div>"
      ],
      "text/plain": [
       "            ride_id  rideable_type           started_at             ended_at  \\\n",
       "0  A50255C1E17942AB   classic_bike  2022-10-14 17:13:30  2022-10-14 17:19:39   \n",
       "1  DB692A70BD2DD4E3  electric_bike  2022-10-01 16:29:26  2022-10-01 16:49:06   \n",
       "2  3C02727AAF60F873  electric_bike  2022-10-19 18:55:40  2022-10-19 19:03:30   \n",
       "3  47E653FDC2D99236  electric_bike  2022-10-31 07:52:36  2022-10-31 07:58:49   \n",
       "4  8B5407BE535159BF   classic_bike  2022-10-13 18:41:03  2022-10-13 19:26:18   \n",
       "5  A177C92E9F021B99  electric_bike  2022-10-13 15:53:27  2022-10-13 15:59:17   \n",
       "6  DF5EC7678DE3C2B3  electric_bike  2022-10-06 15:51:21  2022-10-06 15:55:06   \n",
       "7  407DE6D80130A297   classic_bike  2022-10-26 17:30:10  2022-10-26 17:37:57   \n",
       "8  45EEAF68A1A051CA   classic_bike  2022-10-22 09:47:56  2022-10-22 09:57:42   \n",
       "9  66CD8E4D0C38C0F3  electric_bike  2022-10-24 12:39:47  2022-10-24 12:48:36   \n",
       "\n",
       "          start_station_name start_station_id  \\\n",
       "0   Noble St & Milwaukee Ave            13290   \n",
       "1  Damen Ave & Charleston St            13288   \n",
       "2   Hoyne Ave & Balmoral Ave              655   \n",
       "3         Rush St & Cedar St     KA1504000133   \n",
       "4          900 W Harrison St            13028   \n",
       "5          900 W Harrison St            13028   \n",
       "6          900 W Harrison St            13028   \n",
       "7         Rush St & Cedar St     KA1504000133   \n",
       "8   Noble St & Milwaukee Ave            13290   \n",
       "9   Noble St & Milwaukee Ave            13290   \n",
       "\n",
       "                       end_station_name end_station_id  start_lat  start_lng  \\\n",
       "0             Larrabee St & Division St   KA1504000079  41.900680 -87.662600   \n",
       "1              Damen Ave & Cullerton St          13089  41.920037 -87.677937   \n",
       "2              Western Ave & Leland Ave   TA1307000140  41.979879 -87.681902   \n",
       "3  Orleans St & Chestnut St (NEXT Apts)            620  41.902274 -87.627692   \n",
       "4                     Adler Planetarium          13431  41.874754 -87.649807   \n",
       "5              Loomis St & Lexington St          13332  41.874725 -87.649830   \n",
       "6             Halsted St & Roosevelt Rd   TA1305000017  41.874713 -87.649875   \n",
       "7             Larrabee St & Division St   KA1504000079  41.902309 -87.627691   \n",
       "8              Kingsbury St & Kinzie St   KA1503000043  41.900680 -87.662600   \n",
       "9               Damen Ave & Cortland St          13133  41.900701 -87.662565   \n",
       "\n",
       "     end_lat    end_lng member_casual  \n",
       "0  41.903486 -87.643353        member  \n",
       "1  41.854967 -87.675700        casual  \n",
       "2  41.966400 -87.688704        member  \n",
       "3  41.898203 -87.637536        member  \n",
       "4  41.866095 -87.607267        casual  \n",
       "5  41.872187 -87.661501        casual  \n",
       "6  41.867324 -87.648625        member  \n",
       "7  41.903486 -87.643353        member  \n",
       "8  41.889177 -87.638506        casual  \n",
       "9  41.915983 -87.677335        member  "
      ]
     },
     "execution_count": 8,
     "metadata": {},
     "output_type": "execute_result"
    }
   ],
   "source": [
    "# Inspect the first 10 rows\n",
    "data.head(10)"
   ]
  },
  {
   "cell_type": "markdown",
   "metadata": {
    "id": "29hfD45H-48V"
   },
   "source": [
    "# Clean dataset"
   ]
  },
  {
   "cell_type": "markdown",
   "metadata": {
    "id": "8Rl-yXmFXuFv"
   },
   "source": [
    "## Remove null values"
   ]
  },
  {
   "cell_type": "markdown",
   "metadata": {
    "id": "lYFM9Pa6r4X6"
   },
   "source": [
    "From the inspection of the dataset's metadata, it emerged there are missing values. Therefore we need to deal with them before proceeding in our analysis."
   ]
  },
  {
   "cell_type": "code",
   "execution_count": 9,
   "metadata": {
    "colab": {
     "base_uri": "https://localhost:8080/"
    },
    "id": "AJSK9-9y-z45",
    "outputId": "33632053-b7ea-402b-d7ef-2ab2fcac75c0"
   },
   "outputs": [
    {
     "data": {
      "text/plain": [
       "ride_id                    0\n",
       "rideable_type              0\n",
       "started_at                 0\n",
       "ended_at                   0\n",
       "start_station_name    172595\n",
       "start_station_id      172595\n",
       "end_station_name      182034\n",
       "end_station_id        182034\n",
       "start_lat                  0\n",
       "start_lng                  0\n",
       "end_lat                  833\n",
       "end_lng                  833\n",
       "member_casual              0\n",
       "dtype: int64"
      ]
     },
     "execution_count": 9,
     "metadata": {},
     "output_type": "execute_result"
    }
   ],
   "source": [
    "# Get the count of missing values per column\n",
    "null_values_count = data.isnull().sum()\n",
    "\n",
    "null_values_count"
   ]
  },
  {
   "cell_type": "code",
   "execution_count": 10,
   "metadata": {
    "colab": {
     "base_uri": "https://localhost:8080/"
    },
    "id": "LN9JVkOj-_FN",
    "outputId": "58e0488d-be00-49a0-86b7-660488b7773f"
   },
   "outputs": [
    {
     "name": "stdout",
     "output_type": "stream",
     "text": [
      "Null values represent the 5.07% of the overall number of cells\n"
     ]
    }
   ],
   "source": [
    "# Count the total number of cells inside the dataset\n",
    "total_cells_count = np.product(data.shape)\n",
    "\n",
    "# Count the total number of null values\n",
    "total_null_values = null_values_count.sum()\n",
    "\n",
    "# Compute the percentage of null values\n",
    "null_values_percentage = (total_null_values/total_cells_count)*100\n",
    "\n",
    "print(f\"Null values represent the {null_values_percentage:.2f}% of the overall number of cells\")"
   ]
  },
  {
   "cell_type": "markdown",
   "metadata": {
    "id": "5-QwamCstns4"
   },
   "source": [
    "We have just discovered that null cells represent the `5.07%` of the overall cell count and the only fields where null values appear are those containing information about the start and end station names and ids, together with fields carrying information about latitude and longitude of the ride's end point.\n",
    "\n",
    "\n",
    "Given that it is not much valuable for the purpose of the anlysis keeping rows where the information about the start or end points of the ride are missing, we can drop rows with null values."
   ]
  },
  {
   "cell_type": "code",
   "execution_count": 11,
   "metadata": {
    "id": "QmVX1P4a_CP4"
   },
   "outputs": [],
   "source": [
    "# Remove rows with null values\n",
    "data = data.dropna()"
   ]
  },
  {
   "cell_type": "code",
   "execution_count": 12,
   "metadata": {
    "colab": {
     "base_uri": "https://localhost:8080/"
    },
    "id": "bCRUkbiC_FOQ",
    "outputId": "9310ccab-c972-45ba-cc51-94cf5745c31b"
   },
   "outputs": [
    {
     "data": {
      "text/plain": [
       "ride_id               0\n",
       "rideable_type         0\n",
       "started_at            0\n",
       "ended_at              0\n",
       "start_station_name    0\n",
       "start_station_id      0\n",
       "end_station_name      0\n",
       "end_station_id        0\n",
       "start_lat             0\n",
       "start_lng             0\n",
       "end_lat               0\n",
       "end_lng               0\n",
       "member_casual         0\n",
       "dtype: int64"
      ]
     },
     "execution_count": 12,
     "metadata": {},
     "output_type": "execute_result"
    }
   ],
   "source": [
    "# Inspect again the count of null values per column\n",
    "null_values_count = data.isnull().sum()\n",
    "\n",
    "null_values_count"
   ]
  },
  {
   "cell_type": "markdown",
   "metadata": {
    "id": "YxZTYvjRvGnk"
   },
   "source": [
    "We have successfully got rid of null values. Let's now inspect once again the dataset's metadata to check the details of the subset of the initial dataset we are now left with."
   ]
  },
  {
   "cell_type": "code",
   "execution_count": 13,
   "metadata": {
    "colab": {
     "base_uri": "https://localhost:8080/"
    },
    "id": "EHZGepWd_dsX",
    "outputId": "cc3088a5-bbc7-4984-ab21-e584903416f8"
   },
   "outputs": [
    {
     "name": "stdout",
     "output_type": "stream",
     "text": [
      "<class 'pandas.core.frame.DataFrame'>\n",
      "Index: 805466 entries, 0 to 1078225\n",
      "Data columns (total 13 columns):\n",
      " #   Column              Non-Null Count   Dtype  \n",
      "---  ------              --------------   -----  \n",
      " 0   ride_id             805466 non-null  object \n",
      " 1   rideable_type       805466 non-null  object \n",
      " 2   started_at          805466 non-null  object \n",
      " 3   ended_at            805466 non-null  object \n",
      " 4   start_station_name  805466 non-null  object \n",
      " 5   start_station_id    805466 non-null  object \n",
      " 6   end_station_name    805466 non-null  object \n",
      " 7   end_station_id      805466 non-null  object \n",
      " 8   start_lat           805466 non-null  float64\n",
      " 9   start_lng           805466 non-null  float64\n",
      " 10  end_lat             805466 non-null  float64\n",
      " 11  end_lng             805466 non-null  float64\n",
      " 12  member_casual       805466 non-null  object \n",
      "dtypes: float64(4), object(9)\n",
      "memory usage: 86.0+ MB\n"
     ]
    }
   ],
   "source": [
    "# Display details of the clean dataset\n",
    "data.info()"
   ]
  },
  {
   "cell_type": "markdown",
   "metadata": {
    "id": "a3F6kaL4X5fZ"
   },
   "source": [
    "## Check uniqueness of ID values\n"
   ]
  },
  {
   "cell_type": "markdown",
   "metadata": {
    "id": "7oZWooMrvT7L"
   },
   "source": [
    "Given that data comes from an external source, we cannot fully trust the way the information was gathered. As a consequence, we need to check if the ID fields present inside the dataset are actually unique.\n",
    "\n",
    "If after inspecting these fields we discover some inconsistencies, additional cleaning steps might be necessary."
   ]
  },
  {
   "cell_type": "code",
   "execution_count": 14,
   "metadata": {
    "colab": {
     "base_uri": "https://localhost:8080/"
    },
    "id": "laNLZO3jAdg8",
    "outputId": "f108de55-788b-4707-caab-3a3be1bea7ca"
   },
   "outputs": [
    {
     "name": "stdout",
     "output_type": "stream",
     "text": [
      "ride_id               805466\n",
      "rideable_type              3\n",
      "started_at            726294\n",
      "ended_at              727791\n",
      "start_station_name      1104\n",
      "start_station_id        1067\n",
      "end_station_name        1132\n",
      "end_station_id          1091\n",
      "start_lat             258576\n",
      "start_lng             252549\n",
      "end_lat                 1044\n",
      "end_lng                 1036\n",
      "member_casual              2\n",
      "dtype: int64\n"
     ]
    }
   ],
   "source": [
    "# Get the count of unique values per field\n",
    "unique_values_per_col = data.nunique()\n",
    "\n",
    "print(unique_values_per_col)"
   ]
  },
  {
   "cell_type": "markdown",
   "metadata": {
    "id": "CZ6IsSJmYFED"
   },
   "source": [
    "### Check uniqueness of `ride_id` values"
   ]
  },
  {
   "cell_type": "code",
   "execution_count": 15,
   "metadata": {
    "colab": {
     "base_uri": "https://localhost:8080/"
    },
    "id": "-CL_zz25_naR",
    "outputId": "3e38944b-ab67-44f8-bfe9-36f5e3b23827"
   },
   "outputs": [
    {
     "name": "stdout",
     "output_type": "stream",
     "text": [
      "The number of unique ride_ids is  805466\n",
      "Values of ride_ids are all unique\n"
     ]
    }
   ],
   "source": [
    "# Get the count of unique values for the ride_id column\n",
    "unique_ride_ids = data['ride_id'].nunique()\n",
    "\n",
    "print(\"The number of unique ride_ids is \",unique_ride_ids)\n",
    "\n",
    "# Check if the unique count of ride_id values is coherent with the dataset size\n",
    "if (unique_ride_ids) == len(data):\n",
    "    print(\"Values of ride_ids are all unique\")\n",
    "else:\n",
    "    print(\"Values of ride_ids are not unique\")"
   ]
  },
  {
   "cell_type": "markdown",
   "metadata": {
    "id": "ORaqVVbkXJKN"
   },
   "source": [
    "### Check uniqueness of the mapping between `start_station_id` and `start_station_name`"
   ]
  },
  {
   "cell_type": "code",
   "execution_count": 16,
   "metadata": {
    "colab": {
     "base_uri": "https://localhost:8080/"
    },
    "id": "WOUhN6gFXLi0",
    "outputId": "ccb60842-aefb-4613-b822-bac10829d3e0"
   },
   "outputs": [
    {
     "name": "stdout",
     "output_type": "stream",
     "text": [
      "The number of unique start_station_ids is  1067\n",
      "The number of unique start_station_names is  1104\n"
     ]
    }
   ],
   "source": [
    "# Get the count of unique values for the start_station_id column\n",
    "unique_start_station_ids = data['start_station_id'].nunique()\n",
    "print(\"The number of unique start_station_ids is \", unique_start_station_ids)\n",
    "\n",
    "# Get the count of unique values for the start_station_name column\n",
    "unique_start_station_names = data['start_station_name'].nunique()\n",
    "print(\"The number of unique start_station_names is \", unique_start_station_names)"
   ]
  },
  {
   "cell_type": "markdown",
   "metadata": {
    "id": "g-YmwOuHYaF-"
   },
   "source": [
    "It seems like there are more unique values for the `start_station_name` field than for the `start_station_id` one. It means that there are some stations with same id but with different names. In other words the mapping between names and ids is not one-to-one.\n",
    "\n",
    "Let's further ivestigate to understand the nature of the problem."
   ]
  },
  {
   "cell_type": "code",
   "execution_count": 17,
   "metadata": {
    "colab": {
     "base_uri": "https://localhost:8080/"
    },
    "id": "SWMmJ7olALl3",
    "outputId": "e48fba79-5964-4e1f-f6c4-8a04a9fbe879"
   },
   "outputs": [
    {
     "name": "stdout",
     "output_type": "stream",
     "text": [
      "Number of station_ids with multple names:  37\n"
     ]
    }
   ],
   "source": [
    "# Isolate columns related to start stations\n",
    "start_stations = data[['start_station_name','start_station_id']]\n",
    "\n",
    "# Group by start_station_id to find the associated list of start_station_names\n",
    "names_per_station_id = start_stations.groupby('start_station_id')['start_station_name'].agg(list).reset_index()\n",
    "\n",
    "# Add a column with the number of unique start station names associated to each start_station_id\n",
    "names_per_station_id['unique_names_count'] = names_per_station_id['start_station_name'].apply(lambda x: len(set(x)))\n",
    "\n",
    "# Filter the rows associated to station_ids with multiple names\n",
    "station_id_with_multiple_names = names_per_station_id[names_per_station_id['unique_names_count'] > 1]\n",
    "\n",
    "# Print the number of station_ids with multiple names\n",
    "print(\"Number of station_ids with multple names: \",len(station_id_with_multiple_names))\n"
   ]
  },
  {
   "cell_type": "markdown",
   "metadata": {
    "id": "dB8K29WzaTUh"
   },
   "source": [
    "Let's pick a sample row out of the ones that represent a `station_id` with multiple names in order to get a better understanding of the phenomenon."
   ]
  },
  {
   "cell_type": "code",
   "execution_count": 18,
   "metadata": {
    "colab": {
     "base_uri": "https://localhost:8080/"
    },
    "id": "EbbiJEesaR_a",
    "outputId": "194440f6-e7dd-4d4a-fc76-97243f06b3e4"
   },
   "outputs": [
    {
     "name": "stdout",
     "output_type": "stream",
     "text": [
      "Station ID: 595, Name station: Wabash Ave & 87th St\n",
      "Station ID: 595, Name station: Public Rack - Michigan Ave & 113th St\n"
     ]
    }
   ],
   "source": [
    "# Choose a row index\n",
    "idx = random.randint(0,len(station_id_with_multiple_names) - 1)\n",
    "\n",
    "# Retrieve the corresponding row\n",
    "sample_station = station_id_with_multiple_names.iloc[idx]\n",
    "\n",
    "# Get the the station id of the selected row together with the corresponding station names\n",
    "sample_station_id = sample_station['start_station_id']\n",
    "station_names = sample_station['start_station_name']\n",
    "\n",
    "# Print the names associated to the station id\n",
    "for name in list(set(station_names)):\n",
    "    print(f\"Station ID: {sample_station_id}, Name station: {name}\")"
   ]
  },
  {
   "cell_type": "markdown",
   "metadata": {
    "id": "kFuo7ZZ1cYNi"
   },
   "source": [
    "### Check uniqueness of the mapping between `end_station_id` and `end_station_name`"
   ]
  },
  {
   "cell_type": "code",
   "execution_count": 19,
   "metadata": {
    "colab": {
     "base_uri": "https://localhost:8080/"
    },
    "id": "idCzi-K8cdd7",
    "outputId": "a525dfe7-1982-42a2-b6c2-9fc51416283f"
   },
   "outputs": [
    {
     "name": "stdout",
     "output_type": "stream",
     "text": [
      "The number of unique end_station_ids is  1091\n",
      "The number of unique end_station_names is  1104\n"
     ]
    }
   ],
   "source": [
    "# Get the count of unique values for the end_station_id column\n",
    "unique_end_station_ids = data['end_station_id'].nunique()\n",
    "print(\"The number of unique end_station_ids is \",unique_end_station_ids)\n",
    "\n",
    "# Get the count of unique values for the end_station_name column\n",
    "unique_end_station_names = data['start_station_name'].nunique()\n",
    "print(\"The number of unique end_station_names is \",unique_end_station_names)"
   ]
  },
  {
   "cell_type": "markdown",
   "metadata": {
    "id": "fvP8xaDac-R5"
   },
   "source": [
    "Just like what happened with start stations, it seems like there are more unique values for the `end_station_name` field than for the `end_station_id` one. It means that there are some stations with same id but with different names.In other words the mapping between names and ids is not one-to-one.\n",
    "\n",
    "Let's further ivestigate to understand the entity of the problem."
   ]
  },
  {
   "cell_type": "code",
   "execution_count": 20,
   "metadata": {
    "colab": {
     "base_uri": "https://localhost:8080/"
    },
    "id": "9-99sKzAhBf4",
    "outputId": "4dfac409-b2ad-423f-c0f5-4fc549f92434"
   },
   "outputs": [
    {
     "name": "stdout",
     "output_type": "stream",
     "text": [
      "Number of station_ids with multple names:  41\n"
     ]
    }
   ],
   "source": [
    "# Isolate columns related to end stations\n",
    "start_stations = data[['end_station_name','end_station_id']]\n",
    "\n",
    "# Group by start_station_id to find the associated list of end_station_names\n",
    "names_per_station_id = start_stations.groupby('end_station_id')['end_station_name'].agg(list).reset_index()\n",
    "\n",
    "# Add a column with the number of unique end station names associated to each eend_station_id\n",
    "names_per_station_id['unique_names_count'] = names_per_station_id['end_station_name'].apply(lambda x: len(set(x)))\n",
    "\n",
    "# Filter the rows associated to station_ids with multiple names\n",
    "station_id_with_multiple_names = names_per_station_id[names_per_station_id['unique_names_count'] > 1]\n",
    "\n",
    "# Print the number of station_ids with multiple names\n",
    "print(\"Number of station_ids with multple names: \",len(station_id_with_multiple_names))"
   ]
  },
  {
   "cell_type": "markdown",
   "metadata": {
    "id": "do9fpN4Lhcpn"
   },
   "source": [
    "Let's pick a sample row out of the ones that represent a `station_id` with multiple names in order to get a better understanding of the phenomenon."
   ]
  },
  {
   "cell_type": "code",
   "execution_count": 21,
   "metadata": {
    "colab": {
     "base_uri": "https://localhost:8080/"
    },
    "id": "8NGGLYSxhb-Z",
    "outputId": "cc38e867-3150-4883-c7e0-0c02f7b34635"
   },
   "outputs": [
    {
     "name": "stdout",
     "output_type": "stream",
     "text": [
      "Station ID: 13074, Name station: Broadway & Wilson Ave \n",
      "Station ID: 13074, Name station: Broadway & Wilson - Truman College Vaccination Site \n"
     ]
    }
   ],
   "source": [
    "# Choose a row index\n",
    "idx = random.randint(0, len(station_id_with_multiple_names) - 1)\n",
    "\n",
    "# Retrieve the corresponding row\n",
    "sample_station = station_id_with_multiple_names.iloc[idx]\n",
    "\n",
    "# Get the the station id of the selected row together with the corresponding station names\n",
    "sample_station_id = sample_station['end_station_id']\n",
    "station_names = sample_station['end_station_name']\n",
    "\n",
    "# Print the names associated to the station id\n",
    "for name in list(set(station_names)):\n",
    "    print(f\"Station ID: {sample_station_id}, Name station: {name} \")"
   ]
  },
  {
   "cell_type": "markdown",
   "metadata": {
    "id": "qHPfHS30lg2y"
   },
   "source": [
    "### Check uniqueness of the mapping between `station_id` and `station_name`"
   ]
  },
  {
   "cell_type": "markdown",
   "metadata": {
    "id": "D0YASIKjyKAK"
   },
   "source": [
    "Let's look at the problem from a broader perspective and let's analyze what happens when we do not distinguish between start or end stations."
   ]
  },
  {
   "cell_type": "code",
   "execution_count": 22,
   "metadata": {
    "colab": {
     "base_uri": "https://localhost:8080/"
    },
    "id": "D9q5WL9CinY2",
    "outputId": "16b18686-6314-42fa-89f0-73053218e5fa"
   },
   "outputs": [
    {
     "name": "stdout",
     "output_type": "stream",
     "text": [
      "Number of unique station_id values: 1120\n"
     ]
    }
   ],
   "source": [
    "# Create a view of station-related data\n",
    "start_stations = data[['start_station_name','start_station_id']]\n",
    "end_stations = data[['end_station_name','end_station_id']]\n",
    "\n",
    "# Adjust field names of the Dataframes before mereging them\n",
    "start_stations = start_stations.rename(columns={'start_station_name': 'station_name', 'start_station_id': 'station_id'})\n",
    "end_stations = end_stations.rename(columns={'end_station_name': 'station_name', 'end_station_id': 'station_id'})\n",
    "\n",
    "# Merge start and end station data\n",
    "stations = pd.concat([start_stations, end_stations])\n",
    "\n",
    "# Group by station_id to find the associated lists of station names\n",
    "names_per_station_id = stations.groupby('station_id')['station_name'].agg(list).reset_index()\n",
    "\n",
    "# Print the number of unique station_id fields\n",
    "print(\"Number of unique station_id values:\",len(names_per_station_id))\n",
    "\n",
    "# Add a column with the number of unique station names associated with each station_id\n",
    "names_per_station_id['unique_names_count'] = names_per_station_id['station_name'].apply(lambda x: len(set(x)))\n",
    "\n",
    "# Filter the rows associated with station_ids having multiple names\n",
    "station_ids_with_multiple_names = names_per_station_id[names_per_station_id['unique_names_count'] > 1]"
   ]
  },
  {
   "cell_type": "code",
   "execution_count": 23,
   "metadata": {},
   "outputs": [
    {
     "name": "stdout",
     "output_type": "stream",
     "text": [
      "Number of station_ids with multiple names:  47\n",
      "Station ID: 546, Name station: Damen Ave & Pershing Rd \n",
      "Station ID: 546, Name station: Public Rack - Cicero Ave & Wellington Ave \n"
     ]
    }
   ],
   "source": [
    "# Print the number of station_ids with multiple names\n",
    "print(\"Number of station_ids with multiple names: \", len(station_ids_with_multiple_names))\n",
    "\n",
    "# Choose a row index\n",
    "idx = random.randint(0, len(station_ids_with_multiple_names) - 1)\n",
    "\n",
    "# Retrieve the corresponding row\n",
    "sample_station = station_ids_with_multiple_names.iloc[idx]\n",
    "\n",
    "# Get the station id of the selected row together with the corresponding station names\n",
    "sample_station_id = sample_station['station_id']\n",
    "station_names = sample_station['station_name']\n",
    "\n",
    "# Print the names associated with the station id\n",
    "for name in list(set(station_names)):\n",
    "    print(f\"Station ID: {sample_station_id}, Name station: {name} \")"
   ]
  },
  {
   "cell_type": "markdown",
   "metadata": {
    "id": "CApMQk5qyjph"
   },
   "source": [
    "It turns out that the mapping problem affects a very limited portion of the overall dataset.\n",
    "\n",
    "To address this issue multiple options are viable:\n",
    "\n",
    "1. Solve the name clash by choosing a single name for each `station_id` by removing the rows with the discarded station names. However the name choice would be totally random, since no additional information is available on the way the mapping was originally done.\n",
    "    \n",
    "2. Drop the `station_id` columns, at the cost of keeping the discussed inconsistencies, which nonetheless affect only a small fraction of the dataset.\n",
    "\n",
    "We will adopt the second strategy, since the station ids won't be used in the queries we plan to make later on in MongoDB. Indeed, station_name fields will be the ones on which queries will predicate on. Moreover query results will only include names for better readability. Therefore, we will fully embrace the schema-on-read philosophy of MongoDB and we will design the data model to include only the information required by queries.\n"
   ]
  },
  {
   "cell_type": "code",
   "execution_count": 24,
   "metadata": {
    "colab": {
     "base_uri": "https://localhost:8080/",
     "height": 394
    },
    "id": "xx3_04oC5D16",
    "outputId": "00485892-1e5c-41bb-bc8c-85f5bb77b821"
   },
   "outputs": [
    {
     "data": {
      "text/html": [
       "<div>\n",
       "<style scoped>\n",
       "    .dataframe tbody tr th:only-of-type {\n",
       "        vertical-align: middle;\n",
       "    }\n",
       "\n",
       "    .dataframe tbody tr th {\n",
       "        vertical-align: top;\n",
       "    }\n",
       "\n",
       "    .dataframe thead th {\n",
       "        text-align: right;\n",
       "    }\n",
       "</style>\n",
       "<table border=\"1\" class=\"dataframe\">\n",
       "  <thead>\n",
       "    <tr style=\"text-align: right;\">\n",
       "      <th></th>\n",
       "      <th>ride_id</th>\n",
       "      <th>rideable_type</th>\n",
       "      <th>started_at</th>\n",
       "      <th>ended_at</th>\n",
       "      <th>start_station_name</th>\n",
       "      <th>end_station_name</th>\n",
       "      <th>start_lat</th>\n",
       "      <th>start_lng</th>\n",
       "      <th>end_lat</th>\n",
       "      <th>end_lng</th>\n",
       "      <th>member_casual</th>\n",
       "    </tr>\n",
       "  </thead>\n",
       "  <tbody>\n",
       "    <tr>\n",
       "      <th>0</th>\n",
       "      <td>A50255C1E17942AB</td>\n",
       "      <td>classic_bike</td>\n",
       "      <td>2022-10-14 17:13:30</td>\n",
       "      <td>2022-10-14 17:19:39</td>\n",
       "      <td>Noble St &amp; Milwaukee Ave</td>\n",
       "      <td>Larrabee St &amp; Division St</td>\n",
       "      <td>41.900680</td>\n",
       "      <td>-87.662600</td>\n",
       "      <td>41.903486</td>\n",
       "      <td>-87.643353</td>\n",
       "      <td>member</td>\n",
       "    </tr>\n",
       "    <tr>\n",
       "      <th>1</th>\n",
       "      <td>DB692A70BD2DD4E3</td>\n",
       "      <td>electric_bike</td>\n",
       "      <td>2022-10-01 16:29:26</td>\n",
       "      <td>2022-10-01 16:49:06</td>\n",
       "      <td>Damen Ave &amp; Charleston St</td>\n",
       "      <td>Damen Ave &amp; Cullerton St</td>\n",
       "      <td>41.920037</td>\n",
       "      <td>-87.677937</td>\n",
       "      <td>41.854967</td>\n",
       "      <td>-87.675700</td>\n",
       "      <td>casual</td>\n",
       "    </tr>\n",
       "    <tr>\n",
       "      <th>2</th>\n",
       "      <td>3C02727AAF60F873</td>\n",
       "      <td>electric_bike</td>\n",
       "      <td>2022-10-19 18:55:40</td>\n",
       "      <td>2022-10-19 19:03:30</td>\n",
       "      <td>Hoyne Ave &amp; Balmoral Ave</td>\n",
       "      <td>Western Ave &amp; Leland Ave</td>\n",
       "      <td>41.979879</td>\n",
       "      <td>-87.681902</td>\n",
       "      <td>41.966400</td>\n",
       "      <td>-87.688704</td>\n",
       "      <td>member</td>\n",
       "    </tr>\n",
       "    <tr>\n",
       "      <th>3</th>\n",
       "      <td>47E653FDC2D99236</td>\n",
       "      <td>electric_bike</td>\n",
       "      <td>2022-10-31 07:52:36</td>\n",
       "      <td>2022-10-31 07:58:49</td>\n",
       "      <td>Rush St &amp; Cedar St</td>\n",
       "      <td>Orleans St &amp; Chestnut St (NEXT Apts)</td>\n",
       "      <td>41.902274</td>\n",
       "      <td>-87.627692</td>\n",
       "      <td>41.898203</td>\n",
       "      <td>-87.637536</td>\n",
       "      <td>member</td>\n",
       "    </tr>\n",
       "    <tr>\n",
       "      <th>4</th>\n",
       "      <td>8B5407BE535159BF</td>\n",
       "      <td>classic_bike</td>\n",
       "      <td>2022-10-13 18:41:03</td>\n",
       "      <td>2022-10-13 19:26:18</td>\n",
       "      <td>900 W Harrison St</td>\n",
       "      <td>Adler Planetarium</td>\n",
       "      <td>41.874754</td>\n",
       "      <td>-87.649807</td>\n",
       "      <td>41.866095</td>\n",
       "      <td>-87.607267</td>\n",
       "      <td>casual</td>\n",
       "    </tr>\n",
       "  </tbody>\n",
       "</table>\n",
       "</div>"
      ],
      "text/plain": [
       "            ride_id  rideable_type           started_at             ended_at  \\\n",
       "0  A50255C1E17942AB   classic_bike  2022-10-14 17:13:30  2022-10-14 17:19:39   \n",
       "1  DB692A70BD2DD4E3  electric_bike  2022-10-01 16:29:26  2022-10-01 16:49:06   \n",
       "2  3C02727AAF60F873  electric_bike  2022-10-19 18:55:40  2022-10-19 19:03:30   \n",
       "3  47E653FDC2D99236  electric_bike  2022-10-31 07:52:36  2022-10-31 07:58:49   \n",
       "4  8B5407BE535159BF   classic_bike  2022-10-13 18:41:03  2022-10-13 19:26:18   \n",
       "\n",
       "          start_station_name                      end_station_name  start_lat  \\\n",
       "0   Noble St & Milwaukee Ave             Larrabee St & Division St  41.900680   \n",
       "1  Damen Ave & Charleston St              Damen Ave & Cullerton St  41.920037   \n",
       "2   Hoyne Ave & Balmoral Ave              Western Ave & Leland Ave  41.979879   \n",
       "3         Rush St & Cedar St  Orleans St & Chestnut St (NEXT Apts)  41.902274   \n",
       "4          900 W Harrison St                     Adler Planetarium  41.874754   \n",
       "\n",
       "   start_lng    end_lat    end_lng member_casual  \n",
       "0 -87.662600  41.903486 -87.643353        member  \n",
       "1 -87.677937  41.854967 -87.675700        casual  \n",
       "2 -87.681902  41.966400 -87.688704        member  \n",
       "3 -87.627692  41.898203 -87.637536        member  \n",
       "4 -87.649807  41.866095 -87.607267        casual  "
      ]
     },
     "execution_count": 24,
     "metadata": {},
     "output_type": "execute_result"
    }
   ],
   "source": [
    "data = data.drop(columns=['start_station_id','end_station_id'], axis=1)\n",
    "data.head()"
   ]
  },
  {
   "cell_type": "markdown",
   "metadata": {
    "id": "cy6JZhXB5pnb"
   },
   "source": [
    "## Transfor and augment dataset"
   ]
  },
  {
   "cell_type": "code",
   "execution_count": 25,
   "metadata": {
    "colab": {
     "base_uri": "https://localhost:8080/"
    },
    "id": "qfxAvmgQ6Ffy",
    "outputId": "3b04a71d-1d14-40fd-d851-7552a3e95d8e"
   },
   "outputs": [
    {
     "name": "stdout",
     "output_type": "stream",
     "text": [
      "object\n"
     ]
    }
   ],
   "source": [
    "print(data['ride_id'].dtype)\n",
    "\n",
    "# Rename the ride_id field\n",
    "data = data.rename(columns={'ride_id':'_id'})"
   ]
  },
  {
   "cell_type": "code",
   "execution_count": 26,
   "metadata": {
    "colab": {
     "base_uri": "https://localhost:8080/"
    },
    "id": "sSWKzyBr6f-l",
    "outputId": "443fc8dc-7a7d-4dfd-9a86-6be33b6aa6f4"
   },
   "outputs": [
    {
     "name": "stdout",
     "output_type": "stream",
     "text": [
      "['classic_bike' 'electric_bike' 'docked_bike']\n",
      "object\n",
      "['classic', 'electric', 'docked']\n",
      "Categories (3, object): ['classic', 'docked', 'electric']\n",
      "category\n"
     ]
    }
   ],
   "source": [
    "bike_types = data['rideable_type'].unique()\n",
    "\n",
    "# Print the bike categories\n",
    "print(bike_types)\n",
    "\n",
    "# Print data type\n",
    "print(data['rideable_type'].dtype)\n",
    "\n",
    "# Rename the field\n",
    "data = data.rename(columns={'rideable_type':'bike_type'})\n",
    "\n",
    "# Drop the 'bike' string at the end of each bike_type value\n",
    "data['bike_type'] = data['bike_type'].str.split('_').str[0]\n",
    "\n",
    "# Change type to Categorical\n",
    "data['bike_type'] = pd.Categorical(data['bike_type'])\n",
    "\n",
    "bike_types = data['bike_type'].unique()\n",
    "\n",
    "# Print the new bike categories\n",
    "print(bike_types)\n",
    "\n",
    "# Print the new data type\n",
    "print(data['bike_type'].dtype)"
   ]
  },
  {
   "cell_type": "code",
   "execution_count": 27,
   "metadata": {
    "colab": {
     "base_uri": "https://localhost:8080/"
    },
    "id": "f-eP15C__CBo",
    "outputId": "ca61093b-f5a4-4533-ebac-fb9492d31ddd"
   },
   "outputs": [
    {
     "name": "stdout",
     "output_type": "stream",
     "text": [
      "['member' 'casual']\n",
      "object\n",
      "category\n"
     ]
    }
   ],
   "source": [
    "user_categories = data['member_casual'].unique()\n",
    "\n",
    "# Print the user categories\n",
    "print(user_categories)\n",
    "\n",
    "# Rename the field\n",
    "data = data.rename(columns={'member_casual':'user_category'})\n",
    "\n",
    "# Print data type\n",
    "print(data['user_category'].dtype)\n",
    "\n",
    "# Change type to Categorical\n",
    "data['user_category'] = pd.Categorical(data['user_category'])\n",
    "\n",
    "# Print new data type\n",
    "print(data['user_category'].dtype)"
   ]
  },
  {
   "cell_type": "code",
   "execution_count": 28,
   "metadata": {
    "colab": {
     "base_uri": "https://localhost:8080/"
    },
    "id": "-7RfPklD_eA5",
    "outputId": "ba28da0d-7bb9-44c6-c034-8c75f4d1ac6f"
   },
   "outputs": [
    {
     "name": "stdout",
     "output_type": "stream",
     "text": [
      "object\n",
      "datetime64[ns]\n",
      "datetime64[ns]\n",
      "timedelta64[ns]\n"
     ]
    }
   ],
   "source": [
    "# Print data type\n",
    "print(data['started_at'].dtype)\n",
    "\n",
    "# Change type to Datetime\n",
    "data['started_at'] = pd.to_datetime(data['started_at'])\n",
    "\n",
    "# Rename the field\n",
    "data = data.rename(columns={'started_at':'start_time'})\n",
    "\n",
    "# Print new data type\n",
    "print(data['start_time'].dtype)\n",
    "\n",
    "# Change type to Datetime\n",
    "data['ended_at'] = pd.to_datetime(data['ended_at'])\n",
    "\n",
    "# Rename the field\n",
    "data = data.rename(columns={'ended_at':'end_time'})\n",
    "print(data['end_time'].dtype)\n",
    "\n",
    "# Add a new field to record the ride's length\n",
    "data['ride_length'] = data['end_time'] - data['start_time']\n",
    "\n",
    "# Print data type\n",
    "print(data['ride_length'].dtype)"
   ]
  },
  {
   "cell_type": "markdown",
   "metadata": {},
   "source": [
    "### Clean `ride_length` field"
   ]
  },
  {
   "cell_type": "code",
   "execution_count": 29,
   "metadata": {
    "colab": {
     "base_uri": "https://localhost:8080/",
     "height": 428
    },
    "id": "-JnLehNeAHNp",
    "outputId": "5044962b-07d5-4113-e5f3-d9bb19e38a43"
   },
   "outputs": [
    {
     "name": "stdout",
     "output_type": "stream",
     "text": [
      "805466\n",
      "805383\n"
     ]
    },
    {
     "data": {
      "text/html": [
       "<div>\n",
       "<style scoped>\n",
       "    .dataframe tbody tr th:only-of-type {\n",
       "        vertical-align: middle;\n",
       "    }\n",
       "\n",
       "    .dataframe tbody tr th {\n",
       "        vertical-align: top;\n",
       "    }\n",
       "\n",
       "    .dataframe thead th {\n",
       "        text-align: right;\n",
       "    }\n",
       "</style>\n",
       "<table border=\"1\" class=\"dataframe\">\n",
       "  <thead>\n",
       "    <tr style=\"text-align: right;\">\n",
       "      <th></th>\n",
       "      <th>_id</th>\n",
       "      <th>bike_type</th>\n",
       "      <th>start_time</th>\n",
       "      <th>end_time</th>\n",
       "      <th>start_station_name</th>\n",
       "      <th>end_station_name</th>\n",
       "      <th>start_lat</th>\n",
       "      <th>start_lng</th>\n",
       "      <th>end_lat</th>\n",
       "      <th>end_lng</th>\n",
       "      <th>user_category</th>\n",
       "      <th>ride_length</th>\n",
       "    </tr>\n",
       "  </thead>\n",
       "  <tbody>\n",
       "    <tr>\n",
       "      <th>10284</th>\n",
       "      <td>F9A1F8F99C1EFBF5</td>\n",
       "      <td>electric</td>\n",
       "      <td>2022-10-03 08:55:01</td>\n",
       "      <td>2022-10-03 08:54:45</td>\n",
       "      <td>Chicago Ave &amp; Sheridan Rd</td>\n",
       "      <td>Chicago Ave &amp; Sheridan Rd</td>\n",
       "      <td>42.050523</td>\n",
       "      <td>-87.677829</td>\n",
       "      <td>42.050491</td>\n",
       "      <td>-87.677821</td>\n",
       "      <td>member</td>\n",
       "      <td>-1 days +23:59:44</td>\n",
       "    </tr>\n",
       "    <tr>\n",
       "      <th>154251</th>\n",
       "      <td>918F745F62CAC29E</td>\n",
       "      <td>classic</td>\n",
       "      <td>2022-10-13 14:42:10</td>\n",
       "      <td>2022-10-13 11:53:28</td>\n",
       "      <td>Wilton Ave &amp; Diversey Pkwy*</td>\n",
       "      <td>Wilton Ave &amp; Diversey Pkwy*</td>\n",
       "      <td>41.932418</td>\n",
       "      <td>-87.652705</td>\n",
       "      <td>41.932418</td>\n",
       "      <td>-87.652705</td>\n",
       "      <td>member</td>\n",
       "      <td>-1 days +21:11:18</td>\n",
       "    </tr>\n",
       "    <tr>\n",
       "      <th>572275</th>\n",
       "      <td>2F7E2E2160BD54FF</td>\n",
       "      <td>electric</td>\n",
       "      <td>2022-11-06 01:53:12</td>\n",
       "      <td>2022-11-06 01:30:03</td>\n",
       "      <td>Western Ave &amp; Winnebago Ave</td>\n",
       "      <td>Campbell Ave &amp; North Ave</td>\n",
       "      <td>41.915666</td>\n",
       "      <td>-87.687067</td>\n",
       "      <td>41.910535</td>\n",
       "      <td>-87.689556</td>\n",
       "      <td>casual</td>\n",
       "      <td>-1 days +23:36:51</td>\n",
       "    </tr>\n",
       "    <tr>\n",
       "      <th>574360</th>\n",
       "      <td>77417E7D945B4D32</td>\n",
       "      <td>electric</td>\n",
       "      <td>2022-11-06 01:54:17</td>\n",
       "      <td>2022-11-06 01:29:40</td>\n",
       "      <td>Western Ave &amp; Winnebago Ave</td>\n",
       "      <td>Campbell Ave &amp; North Ave</td>\n",
       "      <td>41.915603</td>\n",
       "      <td>-87.687143</td>\n",
       "      <td>41.910535</td>\n",
       "      <td>-87.689556</td>\n",
       "      <td>member</td>\n",
       "      <td>-1 days +23:35:23</td>\n",
       "    </tr>\n",
       "    <tr>\n",
       "      <th>588147</th>\n",
       "      <td>309BA8741F370C2B</td>\n",
       "      <td>electric</td>\n",
       "      <td>2022-11-06 01:39:08</td>\n",
       "      <td>2022-11-06 01:01:34</td>\n",
       "      <td>Sheridan Rd &amp; Columbia Ave</td>\n",
       "      <td>Sheridan Rd &amp; Columbia Ave</td>\n",
       "      <td>42.004624</td>\n",
       "      <td>-87.661533</td>\n",
       "      <td>42.004583</td>\n",
       "      <td>-87.661406</td>\n",
       "      <td>member</td>\n",
       "      <td>-1 days +23:22:26</td>\n",
       "    </tr>\n",
       "  </tbody>\n",
       "</table>\n",
       "</div>"
      ],
      "text/plain": [
       "                     _id bike_type          start_time            end_time  \\\n",
       "10284   F9A1F8F99C1EFBF5  electric 2022-10-03 08:55:01 2022-10-03 08:54:45   \n",
       "154251  918F745F62CAC29E   classic 2022-10-13 14:42:10 2022-10-13 11:53:28   \n",
       "572275  2F7E2E2160BD54FF  electric 2022-11-06 01:53:12 2022-11-06 01:30:03   \n",
       "574360  77417E7D945B4D32  electric 2022-11-06 01:54:17 2022-11-06 01:29:40   \n",
       "588147  309BA8741F370C2B  electric 2022-11-06 01:39:08 2022-11-06 01:01:34   \n",
       "\n",
       "                 start_station_name             end_station_name  start_lat  \\\n",
       "10284     Chicago Ave & Sheridan Rd    Chicago Ave & Sheridan Rd  42.050523   \n",
       "154251  Wilton Ave & Diversey Pkwy*  Wilton Ave & Diversey Pkwy*  41.932418   \n",
       "572275  Western Ave & Winnebago Ave     Campbell Ave & North Ave  41.915666   \n",
       "574360  Western Ave & Winnebago Ave     Campbell Ave & North Ave  41.915603   \n",
       "588147   Sheridan Rd & Columbia Ave   Sheridan Rd & Columbia Ave  42.004624   \n",
       "\n",
       "        start_lng    end_lat    end_lng user_category       ride_length  \n",
       "10284  -87.677829  42.050491 -87.677821        member -1 days +23:59:44  \n",
       "154251 -87.652705  41.932418 -87.652705        member -1 days +21:11:18  \n",
       "572275 -87.687067  41.910535 -87.689556        casual -1 days +23:36:51  \n",
       "574360 -87.687143  41.910535 -87.689556        member -1 days +23:35:23  \n",
       "588147 -87.661533  42.004583 -87.661406        member -1 days +23:22:26  "
      ]
     },
     "execution_count": 29,
     "metadata": {},
     "output_type": "execute_result"
    }
   ],
   "source": [
    "# Print dataset size\n",
    "print(len(data))\n",
    "\n",
    "# Remove rides of 0 length\n",
    "rides_with_negative_len = data[data['ride_length'] < pd.Timedelta(seconds=0)]\n",
    "data = data[data['ride_length'] > pd.Timedelta(seconds=0)]\n",
    "\n",
    "# Print new dataset size\n",
    "print(len(data))\n",
    "\n",
    "# Print a subset of data points removed\n",
    "rides_with_negative_len.head()"
   ]
  },
  {
   "cell_type": "code",
   "execution_count": 30,
   "metadata": {
    "colab": {
     "base_uri": "https://localhost:8080/",
     "height": 134
    },
    "id": "Lqdutz0QAb6W",
    "outputId": "b2f80ba3-6ec5-4461-8fc8-d89c5e4f6766"
   },
   "outputs": [
    {
     "data": {
      "text/html": [
       "<div>\n",
       "<style scoped>\n",
       "    .dataframe tbody tr th:only-of-type {\n",
       "        vertical-align: middle;\n",
       "    }\n",
       "\n",
       "    .dataframe tbody tr th {\n",
       "        vertical-align: top;\n",
       "    }\n",
       "\n",
       "    .dataframe thead th {\n",
       "        text-align: right;\n",
       "    }\n",
       "</style>\n",
       "<table border=\"1\" class=\"dataframe\">\n",
       "  <thead>\n",
       "    <tr style=\"text-align: right;\">\n",
       "      <th></th>\n",
       "      <th>_id</th>\n",
       "      <th>bike_type</th>\n",
       "      <th>start_time</th>\n",
       "      <th>end_time</th>\n",
       "      <th>start_station_name</th>\n",
       "      <th>end_station_name</th>\n",
       "      <th>start_lat</th>\n",
       "      <th>start_lng</th>\n",
       "      <th>end_lat</th>\n",
       "      <th>end_lng</th>\n",
       "      <th>user_category</th>\n",
       "      <th>ride_length</th>\n",
       "    </tr>\n",
       "  </thead>\n",
       "  <tbody>\n",
       "    <tr>\n",
       "      <th>98297</th>\n",
       "      <td>B139FE7DF42819B0</td>\n",
       "      <td>docked</td>\n",
       "      <td>2022-10-24 14:37:54</td>\n",
       "      <td>2022-10-30 08:01:42</td>\n",
       "      <td>Field Museum</td>\n",
       "      <td>Bissell St &amp; Armitage Ave*</td>\n",
       "      <td>41.865312</td>\n",
       "      <td>-87.617867</td>\n",
       "      <td>41.918296</td>\n",
       "      <td>-87.652183</td>\n",
       "      <td>casual</td>\n",
       "      <td>5 days 17:23:48</td>\n",
       "    </tr>\n",
       "  </tbody>\n",
       "</table>\n",
       "</div>"
      ],
      "text/plain": [
       "                    _id bike_type          start_time            end_time  \\\n",
       "98297  B139FE7DF42819B0    docked 2022-10-24 14:37:54 2022-10-30 08:01:42   \n",
       "\n",
       "      start_station_name            end_station_name  start_lat  start_lng  \\\n",
       "98297       Field Museum  Bissell St & Armitage Ave*  41.865312 -87.617867   \n",
       "\n",
       "         end_lat    end_lng user_category     ride_length  \n",
       "98297  41.918296 -87.652183        casual 5 days 17:23:48  "
      ]
     },
     "execution_count": 30,
     "metadata": {},
     "output_type": "execute_result"
    }
   ],
   "source": [
    "# Inspect the maximum ride length\n",
    "max_ride_len = data['ride_length'].max()\n",
    "ride_with_max_len = data[data['ride_length'] == max_ride_len]\n",
    "ride_with_max_len.head()"
   ]
  },
  {
   "cell_type": "code",
   "execution_count": 31,
   "metadata": {
    "colab": {
     "base_uri": "https://localhost:8080/",
     "height": 394
    },
    "id": "FKHC3Vm1AfMz",
    "outputId": "0060d9b8-b821-409e-b99a-5e6316739156"
   },
   "outputs": [
    {
     "data": {
      "text/html": [
       "<div>\n",
       "<style scoped>\n",
       "    .dataframe tbody tr th:only-of-type {\n",
       "        vertical-align: middle;\n",
       "    }\n",
       "\n",
       "    .dataframe tbody tr th {\n",
       "        vertical-align: top;\n",
       "    }\n",
       "\n",
       "    .dataframe thead th {\n",
       "        text-align: right;\n",
       "    }\n",
       "</style>\n",
       "<table border=\"1\" class=\"dataframe\">\n",
       "  <thead>\n",
       "    <tr style=\"text-align: right;\">\n",
       "      <th></th>\n",
       "      <th>_id</th>\n",
       "      <th>bike_type</th>\n",
       "      <th>start_time</th>\n",
       "      <th>end_time</th>\n",
       "      <th>start_station_name</th>\n",
       "      <th>end_station_name</th>\n",
       "      <th>start_lat</th>\n",
       "      <th>start_lng</th>\n",
       "      <th>end_lat</th>\n",
       "      <th>end_lng</th>\n",
       "      <th>user_category</th>\n",
       "      <th>ride_length</th>\n",
       "    </tr>\n",
       "  </thead>\n",
       "  <tbody>\n",
       "    <tr>\n",
       "      <th>12872</th>\n",
       "      <td>E42BA9D242CF9DA0</td>\n",
       "      <td>electric</td>\n",
       "      <td>2022-10-21 22:12:43</td>\n",
       "      <td>2022-10-21 22:12:44</td>\n",
       "      <td>Morgan St &amp; 31st St</td>\n",
       "      <td>Morgan St &amp; 31st St</td>\n",
       "      <td>41.837801</td>\n",
       "      <td>-87.651127</td>\n",
       "      <td>41.837800</td>\n",
       "      <td>-87.651140</td>\n",
       "      <td>member</td>\n",
       "      <td>0 days 00:00:01</td>\n",
       "    </tr>\n",
       "    <tr>\n",
       "      <th>17421</th>\n",
       "      <td>6A6427B4EF5C3EAE</td>\n",
       "      <td>electric</td>\n",
       "      <td>2022-10-02 18:37:37</td>\n",
       "      <td>2022-10-02 18:37:38</td>\n",
       "      <td>Honore St &amp; Division St</td>\n",
       "      <td>Honore St &amp; Division St</td>\n",
       "      <td>41.903136</td>\n",
       "      <td>-87.673773</td>\n",
       "      <td>41.903119</td>\n",
       "      <td>-87.673935</td>\n",
       "      <td>member</td>\n",
       "      <td>0 days 00:00:01</td>\n",
       "    </tr>\n",
       "    <tr>\n",
       "      <th>18222</th>\n",
       "      <td>2473D2B3EE45EBA5</td>\n",
       "      <td>classic</td>\n",
       "      <td>2022-10-10 12:37:35</td>\n",
       "      <td>2022-10-10 12:37:36</td>\n",
       "      <td>Halsted St &amp; Polk St</td>\n",
       "      <td>Halsted St &amp; Polk St</td>\n",
       "      <td>41.871840</td>\n",
       "      <td>-87.646640</td>\n",
       "      <td>41.871840</td>\n",
       "      <td>-87.646640</td>\n",
       "      <td>member</td>\n",
       "      <td>0 days 00:00:01</td>\n",
       "    </tr>\n",
       "    <tr>\n",
       "      <th>25039</th>\n",
       "      <td>F7323B884021D248</td>\n",
       "      <td>classic</td>\n",
       "      <td>2022-10-24 17:51:05</td>\n",
       "      <td>2022-10-24 17:51:06</td>\n",
       "      <td>Kosciuszko Park</td>\n",
       "      <td>Kosciuszko Park</td>\n",
       "      <td>41.930585</td>\n",
       "      <td>-87.723777</td>\n",
       "      <td>41.930585</td>\n",
       "      <td>-87.723777</td>\n",
       "      <td>member</td>\n",
       "      <td>0 days 00:00:01</td>\n",
       "    </tr>\n",
       "    <tr>\n",
       "      <th>25248</th>\n",
       "      <td>AC7462DD7B594090</td>\n",
       "      <td>electric</td>\n",
       "      <td>2022-10-24 17:53:48</td>\n",
       "      <td>2022-10-24 17:53:49</td>\n",
       "      <td>McClurg Ct &amp; Ohio St</td>\n",
       "      <td>McClurg Ct &amp; Ohio St</td>\n",
       "      <td>41.892574</td>\n",
       "      <td>-87.617059</td>\n",
       "      <td>41.892592</td>\n",
       "      <td>-87.617289</td>\n",
       "      <td>member</td>\n",
       "      <td>0 days 00:00:01</td>\n",
       "    </tr>\n",
       "  </tbody>\n",
       "</table>\n",
       "</div>"
      ],
      "text/plain": [
       "                    _id bike_type          start_time            end_time  \\\n",
       "12872  E42BA9D242CF9DA0  electric 2022-10-21 22:12:43 2022-10-21 22:12:44   \n",
       "17421  6A6427B4EF5C3EAE  electric 2022-10-02 18:37:37 2022-10-02 18:37:38   \n",
       "18222  2473D2B3EE45EBA5   classic 2022-10-10 12:37:35 2022-10-10 12:37:36   \n",
       "25039  F7323B884021D248   classic 2022-10-24 17:51:05 2022-10-24 17:51:06   \n",
       "25248  AC7462DD7B594090  electric 2022-10-24 17:53:48 2022-10-24 17:53:49   \n",
       "\n",
       "            start_station_name         end_station_name  start_lat  start_lng  \\\n",
       "12872      Morgan St & 31st St      Morgan St & 31st St  41.837801 -87.651127   \n",
       "17421  Honore St & Division St  Honore St & Division St  41.903136 -87.673773   \n",
       "18222     Halsted St & Polk St     Halsted St & Polk St  41.871840 -87.646640   \n",
       "25039          Kosciuszko Park          Kosciuszko Park  41.930585 -87.723777   \n",
       "25248     McClurg Ct & Ohio St     McClurg Ct & Ohio St  41.892574 -87.617059   \n",
       "\n",
       "         end_lat    end_lng user_category     ride_length  \n",
       "12872  41.837800 -87.651140        member 0 days 00:00:01  \n",
       "17421  41.903119 -87.673935        member 0 days 00:00:01  \n",
       "18222  41.871840 -87.646640        member 0 days 00:00:01  \n",
       "25039  41.930585 -87.723777        member 0 days 00:00:01  \n",
       "25248  41.892592 -87.617289        member 0 days 00:00:01  "
      ]
     },
     "execution_count": 31,
     "metadata": {},
     "output_type": "execute_result"
    }
   ],
   "source": [
    "# Inspect the minimum ride length\n",
    "min_ride_len = data['ride_length'].min()\n",
    "ride_with_min_len = data[data['ride_length'] == min_ride_len]\n",
    "ride_with_min_len.head()"
   ]
  },
  {
   "cell_type": "code",
   "execution_count": 32,
   "metadata": {
    "colab": {
     "base_uri": "https://localhost:8080/"
    },
    "id": "Y4D9XsPsBfSL",
    "outputId": "2edc33bd-c27d-4ad0-edee-d2739d683778"
   },
   "outputs": [
    {
     "name": "stdout",
     "output_type": "stream",
     "text": [
      "timedelta64[ns]\n",
      "int32\n"
     ]
    }
   ],
   "source": [
    "# Print data type\n",
    "print(data['ride_length'].dtype)\n",
    "\n",
    "# Transform ride length to milliseconds\n",
    "data['ride_length'] = data['ride_length'].dt.total_seconds() * 1000\n",
    "data['ride_length'] = data['ride_length'].astype(np.int32)\n",
    "data = data.rename(columns={'ride_length':'ride_length_in_ms'})\n",
    "\n",
    "print(data['ride_length_in_ms'].dtype)"
   ]
  },
  {
   "cell_type": "code",
   "execution_count": 33,
   "metadata": {
    "id": "_qHNdeApAAT1"
   },
   "outputs": [],
   "source": [
    "# Group start latitude and longitude fields inside an array of coordinates\n",
    "data['start_coordinates'] = data.apply(lambda row: [row['start_lat'], row['start_lng']], axis=1)\n",
    "\n",
    "# Drop individual latitude and longitude columns\n",
    "data.drop(['start_lat', 'start_lng'], axis=1, inplace=True)\n",
    "\n",
    "# Group end latitude and longitude fields inside an array\n",
    "data['end_coordinates'] = data.apply(lambda row: [row['end_lat'], row['end_lng']], axis=1)\n",
    "\n",
    "# Drop individual latitude and longitude columns of coordinates\n",
    "data.drop(['end_lat', 'end_lng'], axis=1, inplace=True)"
   ]
  },
  {
   "cell_type": "code",
   "execution_count": 34,
   "metadata": {
    "colab": {
     "base_uri": "https://localhost:8080/",
     "height": 394
    },
    "id": "qteJlyniCgBm",
    "outputId": "31e86d97-7b09-4273-d4ce-2691cf4a0996"
   },
   "outputs": [
    {
     "data": {
      "text/html": [
       "<div>\n",
       "<style scoped>\n",
       "    .dataframe tbody tr th:only-of-type {\n",
       "        vertical-align: middle;\n",
       "    }\n",
       "\n",
       "    .dataframe tbody tr th {\n",
       "        vertical-align: top;\n",
       "    }\n",
       "\n",
       "    .dataframe thead th {\n",
       "        text-align: right;\n",
       "    }\n",
       "</style>\n",
       "<table border=\"1\" class=\"dataframe\">\n",
       "  <thead>\n",
       "    <tr style=\"text-align: right;\">\n",
       "      <th></th>\n",
       "      <th>_id</th>\n",
       "      <th>bike_type</th>\n",
       "      <th>start_time</th>\n",
       "      <th>end_time</th>\n",
       "      <th>start_station_name</th>\n",
       "      <th>end_station_name</th>\n",
       "      <th>user_category</th>\n",
       "      <th>ride_length_in_ms</th>\n",
       "      <th>start_coordinates</th>\n",
       "      <th>end_coordinates</th>\n",
       "    </tr>\n",
       "  </thead>\n",
       "  <tbody>\n",
       "    <tr>\n",
       "      <th>0</th>\n",
       "      <td>A50255C1E17942AB</td>\n",
       "      <td>classic</td>\n",
       "      <td>2022-10-14 17:13:30</td>\n",
       "      <td>2022-10-14 17:19:39</td>\n",
       "      <td>Noble St &amp; Milwaukee Ave</td>\n",
       "      <td>Larrabee St &amp; Division St</td>\n",
       "      <td>member</td>\n",
       "      <td>369000</td>\n",
       "      <td>[41.90068, -87.6626]</td>\n",
       "      <td>[41.90348607004, -87.6433534936]</td>\n",
       "    </tr>\n",
       "    <tr>\n",
       "      <th>1</th>\n",
       "      <td>DB692A70BD2DD4E3</td>\n",
       "      <td>electric</td>\n",
       "      <td>2022-10-01 16:29:26</td>\n",
       "      <td>2022-10-01 16:49:06</td>\n",
       "      <td>Damen Ave &amp; Charleston St</td>\n",
       "      <td>Damen Ave &amp; Cullerton St</td>\n",
       "      <td>casual</td>\n",
       "      <td>1180000</td>\n",
       "      <td>[41.920037, -87.67793683333333]</td>\n",
       "      <td>[41.854966518753926, -87.67569959163664]</td>\n",
       "    </tr>\n",
       "    <tr>\n",
       "      <th>2</th>\n",
       "      <td>3C02727AAF60F873</td>\n",
       "      <td>electric</td>\n",
       "      <td>2022-10-19 18:55:40</td>\n",
       "      <td>2022-10-19 19:03:30</td>\n",
       "      <td>Hoyne Ave &amp; Balmoral Ave</td>\n",
       "      <td>Western Ave &amp; Leland Ave</td>\n",
       "      <td>member</td>\n",
       "      <td>470000</td>\n",
       "      <td>[41.979878902, -87.681902051]</td>\n",
       "      <td>[41.966399801840986, -87.68870428204536]</td>\n",
       "    </tr>\n",
       "    <tr>\n",
       "      <th>3</th>\n",
       "      <td>47E653FDC2D99236</td>\n",
       "      <td>electric</td>\n",
       "      <td>2022-10-31 07:52:36</td>\n",
       "      <td>2022-10-31 07:58:49</td>\n",
       "      <td>Rush St &amp; Cedar St</td>\n",
       "      <td>Orleans St &amp; Chestnut St (NEXT Apts)</td>\n",
       "      <td>member</td>\n",
       "      <td>373000</td>\n",
       "      <td>[41.902273666666666, -87.6276925]</td>\n",
       "      <td>[41.898203, -87.637536]</td>\n",
       "    </tr>\n",
       "    <tr>\n",
       "      <th>4</th>\n",
       "      <td>8B5407BE535159BF</td>\n",
       "      <td>classic</td>\n",
       "      <td>2022-10-13 18:41:03</td>\n",
       "      <td>2022-10-13 19:26:18</td>\n",
       "      <td>900 W Harrison St</td>\n",
       "      <td>Adler Planetarium</td>\n",
       "      <td>casual</td>\n",
       "      <td>2715000</td>\n",
       "      <td>[41.874754, -87.649807]</td>\n",
       "      <td>[41.866095, -87.607267]</td>\n",
       "    </tr>\n",
       "  </tbody>\n",
       "</table>\n",
       "</div>"
      ],
      "text/plain": [
       "                _id bike_type          start_time            end_time  \\\n",
       "0  A50255C1E17942AB   classic 2022-10-14 17:13:30 2022-10-14 17:19:39   \n",
       "1  DB692A70BD2DD4E3  electric 2022-10-01 16:29:26 2022-10-01 16:49:06   \n",
       "2  3C02727AAF60F873  electric 2022-10-19 18:55:40 2022-10-19 19:03:30   \n",
       "3  47E653FDC2D99236  electric 2022-10-31 07:52:36 2022-10-31 07:58:49   \n",
       "4  8B5407BE535159BF   classic 2022-10-13 18:41:03 2022-10-13 19:26:18   \n",
       "\n",
       "          start_station_name                      end_station_name  \\\n",
       "0   Noble St & Milwaukee Ave             Larrabee St & Division St   \n",
       "1  Damen Ave & Charleston St              Damen Ave & Cullerton St   \n",
       "2   Hoyne Ave & Balmoral Ave              Western Ave & Leland Ave   \n",
       "3         Rush St & Cedar St  Orleans St & Chestnut St (NEXT Apts)   \n",
       "4          900 W Harrison St                     Adler Planetarium   \n",
       "\n",
       "  user_category  ride_length_in_ms                  start_coordinates  \\\n",
       "0        member             369000               [41.90068, -87.6626]   \n",
       "1        casual            1180000    [41.920037, -87.67793683333333]   \n",
       "2        member             470000      [41.979878902, -87.681902051]   \n",
       "3        member             373000  [41.902273666666666, -87.6276925]   \n",
       "4        casual            2715000            [41.874754, -87.649807]   \n",
       "\n",
       "                            end_coordinates  \n",
       "0          [41.90348607004, -87.6433534936]  \n",
       "1  [41.854966518753926, -87.67569959163664]  \n",
       "2  [41.966399801840986, -87.68870428204536]  \n",
       "3                   [41.898203, -87.637536]  \n",
       "4                   [41.866095, -87.607267]  "
      ]
     },
     "execution_count": 34,
     "metadata": {},
     "output_type": "execute_result"
    }
   ],
   "source": [
    "data.head()"
   ]
  },
  {
   "cell_type": "code",
   "execution_count": 38,
   "metadata": {
    "colab": {
     "base_uri": "https://localhost:8080/"
    },
    "id": "WVWyYLPpCgxB",
    "outputId": "0e882bc5-5b3c-4556-d9bd-f8554fd04666"
   },
   "outputs": [
    {
     "name": "stdout",
     "output_type": "stream",
     "text": [
      "<class 'pandas.core.frame.DataFrame'>\n",
      "Index: 805383 entries, 0 to 1078225\n",
      "Data columns (total 10 columns):\n",
      " #   Column              Non-Null Count   Dtype         \n",
      "---  ------              --------------   -----         \n",
      " 0   _id                 805383 non-null  object        \n",
      " 1   bike_type           805383 non-null  category      \n",
      " 2   start_time          805383 non-null  datetime64[ns]\n",
      " 3   end_time            805383 non-null  datetime64[ns]\n",
      " 4   start_station_name  805383 non-null  object        \n",
      " 5   end_station_name    805383 non-null  object        \n",
      " 6   user_category       805383 non-null  category      \n",
      " 7   ride_length_in_ms   805383 non-null  int32         \n",
      " 8   start_coordinates   805383 non-null  object        \n",
      " 9   end_coordinates     805383 non-null  object        \n",
      "dtypes: category(2), datetime64[ns](2), int32(1), object(5)\n",
      "memory usage: 53.8+ MB\n"
     ]
    }
   ],
   "source": [
    "data.info()"
   ]
  },
  {
   "cell_type": "code",
   "execution_count": 43,
   "metadata": {
    "tags": []
   },
   "outputs": [],
   "source": [
    "data.head().to_html('dataset.html')"
   ]
  },
  {
   "cell_type": "markdown",
   "metadata": {
    "id": "Kb2PrxtnCitS"
   },
   "source": [
    "# Save dataset"
   ]
  },
  {
   "cell_type": "code",
   "execution_count": 44,
   "metadata": {
    "id": "xE3G6PwpCa97"
   },
   "outputs": [],
   "source": [
    "data.to_csv('data/bike_sharing.csv', index=False)"
   ]
  }
 ],
 "metadata": {
  "colab": {
   "collapsed_sections": [
    "PV4lJklR7rE1",
    "RbI0joKQ7xrs",
    "Rr4T7D9r729d",
    "UoM-T394-G3e",
    "8Rl-yXmFXuFv"
   ],
   "gpuType": "T4",
   "provenance": []
  },
  "kernelspec": {
   "display_name": "Python 3 (ipykernel)",
   "language": "python",
   "name": "python3"
  },
  "language_info": {
   "codemirror_mode": {
    "name": "ipython",
    "version": 3
   },
   "file_extension": ".py",
   "mimetype": "text/x-python",
   "name": "python",
   "nbconvert_exporter": "python",
   "pygments_lexer": "ipython3",
   "version": "3.11.5"
  }
 },
 "nbformat": 4,
 "nbformat_minor": 4
}
